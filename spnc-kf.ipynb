{
 "cells": [
  {
   "cell_type": "code",
   "execution_count": null,
   "id": "569d893c-7dd6-478d-94c3-1c47d712331a",
   "metadata": {},
   "outputs": [],
   "source": [
    "import pandas as pd\n",
    "import requests\n",
    "from requests.auth import HTTPBasicAuth\n",
    "from typing import NamedTuple\n",
    "\n",
    "from sklearn.preprocessing import MultiLabelBinarizer\n",
    "from sklearn.model_selection import train_test_split\n",
    "from kfp.components import InputPath, OutputPath\n",
    "\n",
    "import kfp \n",
    "from kfp import compiler\n",
    "import kfp.dsl as dsl\n",
    "import kfp.notebook\n",
    "import kfp.components as comp\n",
    "from kfp.components import func_to_container_op\n"
   ]
  },
  {
   "cell_type": "code",
   "execution_count": null,
   "id": "aeb48c3f-59b8-429d-9b76-9ef166d8b0bc",
   "metadata": {},
   "outputs": [],
   "source": [
    "def get_token(login: str, password: str) -> str:\n",
    "    import requests\n",
    "    from requests.auth import HTTPBasicAuth\n",
    "    resp = requests.get(\"https://service-public.nc/api/login-token\", auth=HTTPBasicAuth(login, password))\n",
    "    return resp.json()['access_token']"
   ]
  },
  {
   "cell_type": "code",
   "execution_count": null,
   "id": "4ec73c91-9383-4976-b984-156df8cbbf38",
   "metadata": {},
   "outputs": [],
   "source": [
    "get_token_op = comp.func_to_container_op(get_token, packages_to_install=[\"requests\"])"
   ]
  },
  {
   "cell_type": "code",
   "execution_count": null,
   "id": "6b0368a6-2d0d-4803-99b4-bfbaa96c9b35",
   "metadata": {},
   "outputs": [],
   "source": [
    "def download_dossier(token: str, data_path: OutputPath(str)) -> []:\n",
    "    import requests\n",
    "    import json\n",
    "    from typing import NamedTuple\n",
    "    dossiers = []\n",
    "    flag = True\n",
    "    url = \"https://service-public.nc/api/dossiers?access_token=%s\" % token\n",
    "    while flag:\n",
    "      res = requests.get(url)\n",
    "      dossiers.extend(res.json()['data'])\n",
    "      links = res.json()['links']\n",
    "      if \"next\" in links:\n",
    "        url = res.json()['links'][\"next\"]\n",
    "      else:\n",
    "        flag = False\n",
    "    \n",
    "    import json\n",
    "    with open(data_path+\"dossiers.json\", 'w') as f:\n",
    "        json.dump(dossiers, f)\n",
    "    \n",
    "    return \n",
    "    \n",
    "    "
   ]
  },
  {
   "cell_type": "code",
   "execution_count": null,
   "id": "434bc8fc-0874-4657-9e4c-65fb96583fd3",
   "metadata": {},
   "outputs": [],
   "source": [
    "download_dossier_op = comp.func_to_container_op(download_dossier, packages_to_install=[\"requests\", \"pandas\", \"sklearn\"])"
   ]
  },
  {
   "cell_type": "code",
   "execution_count": null,
   "id": "c7307de1-2d16-4f78-a1e3-2f9a532523f4",
   "metadata": {},
   "outputs": [],
   "source": [
    "def download_themes(token: str) -> []:\n",
    "    import requests\n",
    "    themes = {}\n",
    "    flag = True\n",
    "    url = \"https://service-public.nc/api/themes?access_token=%s\" % token\n",
    "    while flag:\n",
    "      res = requests.get(url)\n",
    "      for t in res.json()['data']:\n",
    "        themes[t['id']] = t['attributes']['nom']\n",
    "      links = res.json()['links']\n",
    "      if \"next\" in links:\n",
    "        url = res.json()['links'][\"next\"]\n",
    "      else:\n",
    "        flag = False\n",
    "    print(themes)\n",
    "    return themes"
   ]
  },
  {
   "cell_type": "code",
   "execution_count": null,
   "id": "1472116c-a682-462a-aa23-ecb902e97c71",
   "metadata": {},
   "outputs": [],
   "source": [
    "download_themes_op = comp.func_to_container_op(download_themes, packages_to_install=[\"requests\"])\n"
   ]
  },
  {
   "cell_type": "code",
   "execution_count": null,
   "id": "37e3a1c5-6013-4b31-96e5-d8b1dd373d62",
   "metadata": {},
   "outputs": [],
   "source": [
    "@func_to_container_op\n",
    "def merge_dossier_et_themes(themes, source_path: InputPath(str), output_text_path: OutputPath(str)):\n",
    "    import json\n",
    "    dossiers = jslon.load(source_path+\"dossiers.json\")\n",
    "    csv = []\n",
    "    # id, nom, description, url, \n",
    "    for d in dossiers:\n",
    "        csv.append([d['id'], d['attributes']['nom'], d['attributes']['description'], d['attributes']['url'], list(map(lambda t: t['id'], d['relationships']['themes']['data']) ) ])\n",
    "    import pandas as pd\n",
    "    df = pd.DataFrame(csv, columns=[\"id\", \"nom\", \"description\", \"url\", \"themes\"])\n",
    "\n",
    "    from sklearn.preprocessing import MultiLabelBinarizer\n",
    "    from sklearn.model_selection import train_test_split\n",
    "    mlb = MultiLabelBinarizer(sparse_output=True)\n",
    "\n",
    "    df = df.join(\n",
    "                pd.DataFrame.sparse.from_spmatrix(\n",
    "                    mlb.fit_transform(df.pop('themes')),\n",
    "                    index=df.index,\n",
    "                    columns=mlb.classes_))\n",
    "    tmp = []\n",
    "    for t in themes:\n",
    "        tmp.append([t, themes[t]])\n",
    "    themes = tmp\n",
    "    for col in df.columns:\n",
    "        if col in themes:\n",
    "            df = df.rename(columns={col: themes[col]})\n",
    "    df_train, df_test = train_test_split(df, test_size=0.2)\n",
    "    df_train.to_csv(output_text_path+'train.csv')\n",
    "    df_test.to_csv(output_text_path+'test.csv')"
   ]
  },
  {
   "cell_type": "code",
   "execution_count": null,
   "id": "fee373ab-3143-4b78-881e-18724572983c",
   "metadata": {},
   "outputs": [],
   "source": [
    "from configparser import ConfigParser\n",
    "parser = ConfigParser()\n",
    "\n",
    "_ = parser.read(\"notebook.cfg\")\n",
    "\n",
    "login = parser.get(\"spnc\", \"login\")\n",
    "password = parser.get(\"spnc\", \"password\")"
   ]
  },
  {
   "cell_type": "code",
   "execution_count": null,
   "id": "dfdd84cf-6c37-4e29-8d9f-e78107f393a9",
   "metadata": {},
   "outputs": [],
   "source": [
    "@dsl.pipeline(\n",
    "   name='SPNC recommander',\n",
    "   description='service-public.nc recommandation system'\n",
    ")\n",
    "def spnc_recommander_pipeline():\n",
    "    get_token_task = get_token_op(login, password)\n",
    "    #print(get_token_task)\n",
    "    download_themes_task = download_themes_op(get_token_task.output)\n",
    "\n",
    "    #Passing a task output reference as operation arguments\n",
    "    #For an operation with a single return value, the output reference can be accessed using `task.output` or `task.outputs['output_name']` syntax\n",
    "    download_dossier_task = download_dossier_op(get_token_task.output)\n",
    "    merge_dossier_et_themes_task = merge_dossier_et_themes(download_themes_task.output, download_dossier_task.outputs['data'])\n",
    "    \n",
    "    "
   ]
  },
  {
   "cell_type": "code",
   "execution_count": null,
   "id": "d79dd700-d164-4e19-8f00-0c37029b57a6",
   "metadata": {},
   "outputs": [],
   "source": [
    "client = kfp.Client()\n",
    "\n",
    "client.create_run_from_pipeline_func(spnc_recommander_pipeline, arguments= {})"
   ]
  },
  {
   "cell_type": "code",
   "execution_count": null,
   "id": "65ed2acb-3a37-461d-8fcf-ef66d81be076",
   "metadata": {},
   "outputs": [],
   "source": []
  },
  {
   "cell_type": "code",
   "execution_count": null,
   "id": "0d7bb986-2379-4e71-a896-3ac01caf6055",
   "metadata": {},
   "outputs": [],
   "source": []
  }
 ],
 "metadata": {
  "kernelspec": {
   "display_name": "Python 3",
   "language": "python",
   "name": "python3"
  },
  "language_info": {
   "codemirror_mode": {
    "name": "ipython",
    "version": 3
   },
   "file_extension": ".py",
   "mimetype": "text/x-python",
   "name": "python",
   "nbconvert_exporter": "python",
   "pygments_lexer": "ipython3",
   "version": "3.8.10"
  }
 },
 "nbformat": 4,
 "nbformat_minor": 5
}
